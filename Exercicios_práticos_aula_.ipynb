{
  "nbformat": 4,
  "nbformat_minor": 0,
  "metadata": {
    "colab": {
      "provenance": [],
      "collapsed_sections": [],
      "authorship_tag": "ABX9TyO/DP99Okm93qqA353RKMb/",
      "include_colab_link": true
    },
    "kernelspec": {
      "name": "python3",
      "display_name": "Python 3"
    },
    "language_info": {
      "name": "python"
    }
  },
  "cells": [
    {
      "cell_type": "markdown",
      "metadata": {
        "id": "view-in-github",
        "colab_type": "text"
      },
      "source": [
        "<a href=\"https://colab.research.google.com/github/joaocorrea/arquivos-legais/blob/main/Exercicios_pr%C3%A1ticos_aula_.ipynb\" target=\"_parent\"><img src=\"https://colab.research.google.com/assets/colab-badge.svg\" alt=\"Open In Colab\"/></a>"
      ]
    },
    {
      "cell_type": "code",
      "source": [
        "#exercicios aula pratica dia 8/10/2022\n",
        "#exercicio 1\n",
        "\n",
        "x1 = 5\n",
        "print(type(x1))\n",
        "x2 = 5.0\n",
        "print(type(x2))\n",
        "x3 = 5.5\n",
        "print(type(x3))\n",
        "x4 = 'DNC'\n",
        "print(type(x4))\n",
        "x5 = 1/2\n",
        "print(type(x5))\n",
        "x6 = 0.5 * 2\n",
        "print(type(x6))\n",
        "x7 = 2 ** 4\n",
        "print(type(x7))\n",
        "x8 = 2+4\n",
        "print(type(x8))\n",
        "x9 = 1000000000\n",
        "print(type(x9))"
      ],
      "metadata": {
        "colab": {
          "base_uri": "https://localhost:8080/"
        },
        "id": "ekZDtGASflxy",
        "outputId": "0005f080-f209-45d0-d79f-077df42d9d5d"
      },
      "execution_count": null,
      "outputs": [
        {
          "output_type": "stream",
          "name": "stdout",
          "text": [
            "<class 'int'>\n",
            "<class 'float'>\n",
            "<class 'float'>\n",
            "<class 'str'>\n",
            "<class 'float'>\n",
            "<class 'float'>\n",
            "<class 'int'>\n",
            "<class 'int'>\n",
            "<class 'int'>\n"
          ]
        }
      ]
    },
    {
      "cell_type": "code",
      "source": [
        "#exercicio 1\n",
        "dadInt = input('digite um numero: ')\n",
        "\n",
        "if dadInt.isnumeric():\n",
        "  print('dado inteiro')\n",
        "else:\n",
        "  print('dado nao inteiro')"
      ],
      "metadata": {
        "id": "DbNRZhuCoFk8"
      },
      "execution_count": null,
      "outputs": []
    },
    {
      "cell_type": "code",
      "source": [
        "#exercicio 1\n",
        "dadfloat = float(input('digite um numero: '))\n",
        "print(type(dadfloat))"
      ],
      "metadata": {
        "colab": {
          "base_uri": "https://localhost:8080/"
        },
        "id": "_xCZRJf4oIQh",
        "outputId": "1d5cb11c-6cde-4759-9cc3-ba9e4ca2b797"
      },
      "execution_count": null,
      "outputs": [
        {
          "output_type": "stream",
          "name": "stdout",
          "text": [
            "digite um numero: 6.8\n",
            "<class 'float'>\n"
          ]
        }
      ]
    },
    {
      "cell_type": "code",
      "source": [
        "#exercicio 1\n",
        "dadStr = input('digite uma string: ')\n",
        "print(type(dadStr))"
      ],
      "metadata": {
        "colab": {
          "base_uri": "https://localhost:8080/"
        },
        "id": "ytPihs4QoRVK",
        "outputId": "6988a4d9-4494-46eb-ab3e-a6258f277cba"
      },
      "execution_count": null,
      "outputs": [
        {
          "output_type": "stream",
          "name": "stdout",
          "text": [
            "digite uma string: ttt\n",
            "<class 'str'>\n"
          ]
        }
      ]
    },
    {
      "cell_type": "code",
      "source": [
        "#exercicio 1\n",
        "dad = input(' digite um dado')\n",
        "if dad.isnumeric():\n",
        "  print('numerico')\n",
        "if dad.isalpha():\n",
        "  print('texto')  \n"
      ],
      "metadata": {
        "colab": {
          "base_uri": "https://localhost:8080/"
        },
        "id": "XzSmQue7otCQ",
        "outputId": "c4e66de1-24ca-403f-f991-749b3479b69a"
      },
      "execution_count": null,
      "outputs": [
        {
          "output_type": "stream",
          "name": "stdout",
          "text": [
            "digite um dadoy\n",
            "texto\n"
          ]
        }
      ]
    },
    {
      "cell_type": "code",
      "source": [
        "#exercicio 2\n",
        "linha = '-'\n",
        "dnc = 'DS06 - DNC'\n",
        "espaco = ' '\n",
        "\n",
        "print(linha*50)\n",
        "print(linha*50)\n",
        "print(espaco*19,dnc)\n",
        "print(linha*50)\n",
        "print(linha*50)\n"
      ],
      "metadata": {
        "colab": {
          "base_uri": "https://localhost:8080/"
        },
        "id": "DNfmwGGOpVQa",
        "outputId": "40b48d96-b2de-46b8-89fb-dac44eda7549"
      },
      "execution_count": null,
      "outputs": [
        {
          "output_type": "stream",
          "name": "stdout",
          "text": [
            "--------------------------------------------------\n",
            "--------------------------------------------------\n",
            "                    DS06 - DNC\n",
            "--------------------------------------------------\n",
            "--------------------------------------------------\n"
          ]
        }
      ]
    },
    {
      "cell_type": "code",
      "source": [
        "#exercicio 3\n",
        "salario_cientista_de_dados = 10000.00\n",
        "parcela_bmw = 2500.45\n",
        "parcela_apartamento = 3500.50\n",
        "veterinario_romeuzinho = 500.00\n",
        "luz = 100.80\n",
        "agua = 80.35\n",
        "condominio = 800.44\n",
        "gas = 150.65\n",
        "\n",
        "total_gasto = parcela_bmw + parcela_apartamento + veterinario_romeuzinho + luz + agua + condominio + gas\n",
        "poupanca = salario_cientista_de_dados - total_gasto\n",
        "\n",
        "print('****************************************************************************************************************************************')\n",
        "print('Seu salario de cientista de dados junior é de ', salario_cientista_de_dados,'e seus gastos estão dispostos a seguir: ')\n",
        "print('parcela bmw = ', parcela_bmw)\n",
        "print('parcela apartamento = ', parcela_apartamento)\n",
        "print('veterinario romeuzinho = ', veterinario_romeuzinho)\n",
        "print('luz = ', luz)\n",
        "print('agua = ', agua)\n",
        "print('condominio = ', condominio)\n",
        "print('gas = ', gas)\n",
        "print('****************************************************************************************************************************************')\n",
        "\n",
        "print('valor disponivel para colocar na poupança é de : {:.2f}'.format(poupanca) )"
      ],
      "metadata": {
        "colab": {
          "base_uri": "https://localhost:8080/"
        },
        "id": "f35dV4nyqS6G",
        "outputId": "ecaa137f-1315-4a90-e2c9-57ccb68a6bd3"
      },
      "execution_count": null,
      "outputs": [
        {
          "output_type": "stream",
          "name": "stdout",
          "text": [
            "****************************************************************************************************************************************\n",
            "Seu salario de cientista de dados junior é de  10000.0 e seus gastos estão dispostos a seguir: \n",
            "parcela bmw =  2500.45\n",
            "parcela apartamento =  3500.5\n",
            "veterinario romeuzinho =  500.0\n",
            "luz =  100.8\n",
            "agua =  80.35\n",
            "condominio =  800.44\n",
            "gas =  150.65\n",
            "****************************************************************************************************************************************\n",
            "valor disponivel para colocar na poupança é de : 2366.81\n"
          ]
        }
      ]
    },
    {
      "cell_type": "code",
      "source": [
        "#exercicio 4\n",
        "formacao_em_dados = 20000.00\n",
        "formacao_em_projetos = 15000.00\n",
        "formacao_em_marketing = 13000.00\n",
        "formacao_em_produto = 18000.00\n",
        "formacao_em_tecnologia = 19000.00\n",
        "\n",
        "qual_curso = int(input('Qual curso você quer escolher: \\n 1 = formaçao em dados \\n 2 = formaçao em projetos \\n 3 = formaçao em marketing \\n 4 = formaçao em produto \\n 5 = formaçao em tecnologia \\n '))\n",
        "\n",
        "if qual_curso == 1:\n",
        "  print('Voce escolheu o curso Formaçao em dados no valor de', formacao_em_dados,' que começará no mês que vem')\n",
        "elif qual_curso == 2:\n",
        "    print('Voce escolheu o curso Formaçao em projetos no valor de', formacao_em_projetos,' que começará no mês que vem')\n",
        "elif qual_curso == 3:\n",
        "  print('Voce escolheu o curso Formaçao em marketing no valor de', formacao_em_marketing,' que começará no mês que vem')\n",
        "elif qual_curso == 4:\n",
        "  print('Voce escolheu o curso Formaçao em produto no valor de', formacao_em_produto,' que começará no mês que vem')\n",
        "elif qual_curso == 5:\n",
        "  print('Voce escolheu o curso Formaçao em tecnologia no valor de', formacao_em_tecnologia,' que começará no mês que vem')\n",
        "else:\n",
        "  print('Digite um valor correspondente ao curso de nossas formaçoes : \\n 1 = formaçao em dados \\n 2 = formaçao em projetos \\n 3 = formaçao em marketing \\n 4 = formaçao em produto \\n 5 = formaçao em tecnologia ')\n",
        "\n",
        "\n"
      ],
      "metadata": {
        "colab": {
          "base_uri": "https://localhost:8080/"
        },
        "id": "1WOiDGTerJmW",
        "outputId": "5308ee51-d138-4e5c-f51a-529b45297720"
      },
      "execution_count": null,
      "outputs": [
        {
          "output_type": "stream",
          "name": "stdout",
          "text": [
            "Qual curso você quer escolher: \n",
            " 1 = formaçao em dados \n",
            " 2 = formaçao em projetos \n",
            " 3 = formaçao em marketing \n",
            " 4 = formaçao em produto \n",
            " 5 = formaçao em tecnologia \n",
            " 1\n",
            "Voce escolheu o curso Formaçao em dados no valor de 20000.0  que começará no mês que vem\n"
          ]
        }
      ]
    },
    {
      "cell_type": "code",
      "source": [
        "#exercicio 5\n",
        "\n",
        "faturamento = 2000000\n",
        "qtd_cursos = 5\n",
        "\n",
        "tot_dados = formacao_em_dados*45\n",
        "tot_proj = formacao_em_projetos*30\n",
        "tot_mkt = formacao_em_marketing*20\n",
        "tot_prodt = formacao_em_produto*35\n",
        "tot_tec = formacao_em_tecnologia*0\n",
        "\n",
        "rec_tot = tot_dados + tot_proj + tot_mkt + tot_prodt + tot_tec\n",
        "\n",
        "receita_total = [formacao_em_dados , formacao_em_projetos , formacao_em_marketing , formacao_em_produto , formacao_em_tecnologia]\n",
        "\n",
        "receita_media = rec_tot / qtd_cursos\n",
        "\n",
        "print('total de vendas em dados:',tot_dados)\n",
        "print()\n",
        "print('total de vendas em prj:',tot_proj)\n",
        "print()\n",
        "print('total de vendas em mkt:',tot_mkt)\n",
        "print()\n",
        "print('total de vendas em prodt:',tot_prodt)\n",
        "print()\n",
        "print('total de vendas em tec:',tot_tec)\n",
        "print()\n",
        "print('total de vendas: ',rec_tot)\n",
        "print()\n",
        "print('receita media: ',receita_media)\n",
        "\n",
        "if rec_tot >= faturamento:\n",
        "  print('Parabéns!!! A DNC bateu a meta do mês')\n",
        "else:\n",
        "  print('Esse mês não batemos a meta, porém mês que vem vamos vir mais forte pra recuperar!!!')\n"
      ],
      "metadata": {
        "colab": {
          "base_uri": "https://localhost:8080/"
        },
        "id": "Xq6434RGwXHj",
        "outputId": "50860036-4ffc-4acc-91fe-7c8cf9e4d61a"
      },
      "execution_count": null,
      "outputs": [
        {
          "output_type": "stream",
          "name": "stdout",
          "text": [
            "total de vendas em dados: 900000.0\n",
            "\n",
            "total de vendas em prj: 450000.0\n",
            "\n",
            "total de vendas em mkt: 260000.0\n",
            "\n",
            "total de vendas em prodt: 630000.0\n",
            "\n",
            "total de vendas em tec: 0.0\n",
            "\n",
            "total de vendas:  2240000.0\n",
            "\n",
            "receita media:  448000.0\n",
            "Parabéns!!! A DNC bateu a meta do mês\n"
          ]
        }
      ]
    },
    {
      "cell_type": "code",
      "source": [
        "#exercicio 6\n",
        "\n",
        "passo = range(1,4)\n",
        "soma = 0\n",
        "\n",
        "for i in passo:\n",
        "  soma = soma + i\n",
        "  i = i + 1 \n",
        "print(soma)\n",
        "\n",
        "#------------------------------------------------------------------\n",
        "som = 0\n",
        "i = 0\n",
        "x = float(input('Digite o termo onde a soma deve parar:  '))\n",
        "\n",
        "while i <= x:\n",
        "  som = som + i\n",
        "  i +=1\n",
        "print(\"=\"*50)\n",
        "print('Seu código foi finalizado e o valor da soma é: ', som)\n",
        "print(\"=\"*50)"
      ],
      "metadata": {
        "colab": {
          "base_uri": "https://localhost:8080/"
        },
        "id": "2I7N-DFl1Dm8",
        "outputId": "9ebcf5f9-ec96-4034-928e-65aaa85b169a"
      },
      "execution_count": null,
      "outputs": [
        {
          "output_type": "stream",
          "name": "stdout",
          "text": [
            "6\n"
          ]
        }
      ]
    },
    {
      "cell_type": "code",
      "source": [
        "#exercicio 7\n",
        "\n",
        "while True:\n",
        "  prox = input('deseja mudar de musica? digite p para sim ')\n",
        "  if prox == 'p':\n",
        "    print('proxima musica')\n",
        "  else:\n",
        "    print('fechando o app')\n",
        "    break\n",
        "\n"
      ],
      "metadata": {
        "colab": {
          "base_uri": "https://localhost:8080/"
        },
        "id": "tJ3nR4wv2EPJ",
        "outputId": "ffcebffe-28be-4f34-ba7f-f0fbbae45038"
      },
      "execution_count": null,
      "outputs": [
        {
          "output_type": "stream",
          "name": "stdout",
          "text": [
            "deseja mudar de musica? digite p para sim p\n",
            "proxima musica\n",
            "deseja mudar de musica? digite p para sim p\n",
            "proxima musica\n",
            "deseja mudar de musica? digite p para sim l\n",
            "fechando o app\n"
          ]
        }
      ]
    },
    {
      "cell_type": "code",
      "source": [
        "#exercicio 8\n",
        "passo = range(1,4)\n",
        "\n",
        "for i in passo:\n",
        "  pessoa = input('Digite o nome da pessoa')\n",
        "  print('Parabéns  por toda sua ajuda no projeto, você está sendo essencial para o resultado que estamos  atingindo,', pessoa)\n"
      ],
      "metadata": {
        "colab": {
          "base_uri": "https://localhost:8080/"
        },
        "id": "GYqm2eJL3C8t",
        "outputId": "cf7438dc-c81d-4d5a-e4a0-25da86641ae3"
      },
      "execution_count": null,
      "outputs": [
        {
          "output_type": "stream",
          "name": "stdout",
          "text": [
            "Digite o nome da pessoajoao\n",
            "Parabéns  por toda sua ajuda no projeto, você está sendo essencial para o resultado que estamos  atingindo, joao\n",
            "Digite o nome da pessoapedro\n",
            "Parabéns  por toda sua ajuda no projeto, você está sendo essencial para o resultado que estamos  atingindo, pedro\n",
            "Digite o nome da pessoacorrea\n",
            "Parabéns  por toda sua ajuda no projeto, você está sendo essencial para o resultado que estamos  atingindo, correa\n"
          ]
        }
      ]
    },
    {
      "cell_type": "code",
      "source": [
        "#exercicio 9\n",
        "\n",
        "cofrinho = []\n",
        "\n",
        "while True:\n",
        "  valor = int(input('digite um valor'))\n",
        "  cofrinho.append(valor)\n",
        "  insercao = input('deseja parar inserir no cofrinho? s / n')\n",
        "  if insercao == 's':\n",
        "    break\n",
        "soma = sum(cofrinho)\n",
        "print(cofrinho)\n",
        "print(soma)\n",
        "\n"
      ],
      "metadata": {
        "colab": {
          "base_uri": "https://localhost:8080/"
        },
        "id": "r0sTKxWw4av_",
        "outputId": "ed04d051-8afe-4c10-ae28-2a43594e4fcb"
      },
      "execution_count": null,
      "outputs": [
        {
          "output_type": "stream",
          "name": "stdout",
          "text": [
            "digite um valor5\n",
            "deseja parar inserir no cofrinho? s / n\n",
            "digite um valor5\n",
            "deseja parar inserir no cofrinho? s / ns\n",
            "[5, 5]\n",
            "10\n"
          ]
        }
      ]
    },
    {
      "cell_type": "code",
      "source": [
        "#exercicio 10\n",
        "dic = []\n",
        "\n",
        "lista = list()\n",
        "grupo = dict()\n",
        "\n",
        "for i in range(1,6):\n",
        "  grupo['Nome'] = str(input('Digite o nome {}'.format(i)))\n",
        "  grupo['RID'] = str(input('Digite o RID {}'.format(i)))\n",
        "  grupo['idade'] = str(input('Digite o idade {}'.format(i)))\n",
        "  grupo['Cidade'] = str(input('Digite o cidade {}'.format(i)))\n",
        "  grupo['cargo'] = str(input('Digite o cargo {}'.format(i)))\n",
        "  print(' ')\n",
        "  lista.append(grupo.copy())\n",
        "  grupo.clear()\n",
        "\n",
        "for i in lista:\n",
        "  print(' ')\n",
        "  for k,v in i.items():\n",
        "    print('{} = {}'.format(k,v))\n"
      ],
      "metadata": {
        "colab": {
          "base_uri": "https://localhost:8080/"
        },
        "id": "RoBydct84bHr",
        "outputId": "0b113971-8ba6-452e-f4c8-832c8969e04a"
      },
      "execution_count": null,
      "outputs": [
        {
          "output_type": "stream",
          "name": "stdout",
          "text": [
            "Digite o nome 1joao\n",
            "Digite o RID 112\n",
            "Digite o idade 112\n",
            "Digite o cidade 1rj\n",
            "Digite o cargo 1c\n",
            " \n",
            "Digite o nome 2c\n",
            "Digite o RID 2c\n",
            "Digite o idade 2c\n",
            "Digite o cidade 2c\n",
            "Digite o cargo 2c\n",
            " \n",
            "Digite o nome 3c\n",
            "Digite o RID 3c\n",
            "Digite o idade 3c\n",
            "Digite o cidade 3c\n",
            "Digite o cargo 3c\n",
            " \n",
            "Digite o nome 4d\n",
            "Digite o RID 4d\n",
            "Digite o idade 4d\n",
            "Digite o cidade 4d\n",
            "Digite o cargo 4d\n",
            " \n",
            "Digite o nome 5f\n",
            "Digite o RID 5g\n",
            "Digite o idade 5h\n",
            "Digite o cidade 5j\n",
            "Digite o cargo 5d\n",
            " \n",
            " \n",
            "Nome = joao\n",
            "RID = 12\n",
            "idade = 12\n",
            "Cidade = rj\n",
            "cargo = c\n",
            " \n",
            "Nome = c\n",
            "RID = c\n",
            "idade = c\n",
            "Cidade = c\n",
            "cargo = c\n",
            " \n",
            "Nome = c\n",
            "RID = c\n",
            "idade = c\n",
            "Cidade = c\n",
            "cargo = c\n",
            " \n",
            "Nome = d\n",
            "RID = d\n",
            "idade = d\n",
            "Cidade = d\n",
            "cargo = d\n",
            " \n",
            "Nome = f\n",
            "RID = g\n",
            "idade = h\n",
            "Cidade = j\n",
            "cargo = d\n"
          ]
        }
      ]
    },
    {
      "cell_type": "code",
      "source": [
        "#exercicio 11\n",
        "def soma_notas(l):\n",
        "  total = 0\n",
        "  for val in l:\n",
        "    total = total + val\n",
        "  return total\n",
        "\n",
        "lista = []\n",
        "x = 1\n",
        "\n",
        "while x != 0:\n",
        "  x = int(input('Informe o valor da notas: '))\n",
        "  if x == 0:\n",
        "    break\n",
        "  lista.append(x)\n",
        "\n",
        "print(\"A soma total é :\", soma_notas(lista))\n",
        "  "
      ],
      "metadata": {
        "colab": {
          "base_uri": "https://localhost:8080/",
          "height": 393
        },
        "id": "7M33jkdD38dd",
        "outputId": "1f1a10d0-f526-402b-d701-4af2e0289d1d"
      },
      "execution_count": null,
      "outputs": [
        {
          "name": "stdout",
          "output_type": "stream",
          "text": [
            "informe o valor da nota1\n",
            "informe o valor da nota0\n"
          ]
        },
        {
          "output_type": "error",
          "ename": "TypeError",
          "evalue": "ignored",
          "traceback": [
            "\u001b[0;31m---------------------------------------------------------------------------\u001b[0m",
            "\u001b[0;31mTypeError\u001b[0m                                 Traceback (most recent call last)",
            "\u001b[0;32m<ipython-input-101-a749e8f1c41f>\u001b[0m in \u001b[0;36m<module>\u001b[0;34m\u001b[0m\n\u001b[1;32m     16\u001b[0m   \u001b[0mlista\u001b[0m\u001b[0;34m.\u001b[0m\u001b[0mappend\u001b[0m\u001b[0;34m(\u001b[0m\u001b[0mx\u001b[0m\u001b[0;34m)\u001b[0m\u001b[0;34m\u001b[0m\u001b[0;34m\u001b[0m\u001b[0m\n\u001b[1;32m     17\u001b[0m \u001b[0;34m\u001b[0m\u001b[0m\n\u001b[0;32m---> 18\u001b[0;31m \u001b[0mprint\u001b[0m\u001b[0;34m(\u001b[0m\u001b[0;34m'a soma total é: '\u001b[0m\u001b[0;34m,\u001b[0m \u001b[0msoma\u001b[0m\u001b[0;34m(\u001b[0m\u001b[0mlista\u001b[0m\u001b[0;34m)\u001b[0m\u001b[0;34m)\u001b[0m\u001b[0;34m\u001b[0m\u001b[0;34m\u001b[0m\u001b[0m\n\u001b[0m\u001b[1;32m     19\u001b[0m \u001b[0;34m\u001b[0m\u001b[0m\n",
            "\u001b[0;32m<ipython-input-101-a749e8f1c41f>\u001b[0m in \u001b[0;36msoma\u001b[0;34m(*args)\u001b[0m\n\u001b[1;32m      3\u001b[0m   \u001b[0mresultado\u001b[0m \u001b[0;34m=\u001b[0m \u001b[0;36m0\u001b[0m\u001b[0;34m\u001b[0m\u001b[0;34m\u001b[0m\u001b[0m\n\u001b[1;32m      4\u001b[0m   \u001b[0;32mfor\u001b[0m \u001b[0melem\u001b[0m \u001b[0;32min\u001b[0m \u001b[0margs\u001b[0m\u001b[0;34m:\u001b[0m\u001b[0;34m\u001b[0m\u001b[0;34m\u001b[0m\u001b[0m\n\u001b[0;32m----> 5\u001b[0;31m     \u001b[0mresultado\u001b[0m \u001b[0;34m=\u001b[0m \u001b[0mresultado\u001b[0m \u001b[0;34m+\u001b[0m \u001b[0melem\u001b[0m\u001b[0;34m\u001b[0m\u001b[0;34m\u001b[0m\u001b[0m\n\u001b[0m\u001b[1;32m      6\u001b[0m   \u001b[0;32mreturn\u001b[0m \u001b[0mresultado\u001b[0m\u001b[0;34m\u001b[0m\u001b[0;34m\u001b[0m\u001b[0m\n\u001b[1;32m      7\u001b[0m \u001b[0;34m\u001b[0m\u001b[0m\n",
            "\u001b[0;31mTypeError\u001b[0m: unsupported operand type(s) for +: 'int' and 'list'"
          ]
        }
      ]
    }
  ]
}